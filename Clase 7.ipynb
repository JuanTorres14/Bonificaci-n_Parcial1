{
 "cells": [
  {
   "cell_type": "markdown",
   "id": "754a4356",
   "metadata": {},
   "source": [
    "# Clase 7"
   ]
  },
  {
   "cell_type": "markdown",
   "id": "7be76ba6",
   "metadata": {},
   "source": [
    "## Juan José Torres Patiño"
   ]
  },
  {
   "cell_type": "markdown",
   "id": "c3aeabdc",
   "metadata": {},
   "source": [
    "### CC 1002015244"
   ]
  },
  {
   "cell_type": "markdown",
   "id": "b150411c",
   "metadata": {},
   "source": [
    "# Transformada Z"
   ]
  },
  {
   "cell_type": "code",
   "execution_count": 4,
   "id": "2b436bd7",
   "metadata": {},
   "outputs": [],
   "source": [
    "import numpy as np\n",
    "import sympy as sym\n",
    "import matplotlib.pyplot as plt\n",
    "%matplotlib inline"
   ]
  },
  {
   "cell_type": "markdown",
   "id": "5d8b5c60",
   "metadata": {},
   "source": [
    "$x(n) = (\\frac{1}{2})^{n-1} u(n-1) $"
   ]
  },
  {
   "cell_type": "code",
   "execution_count": 5,
   "id": "bda052e3",
   "metadata": {},
   "outputs": [
    {
     "data": {
      "text/latex": [
       "$\\displaystyle 2 \\left(\\begin{cases} \\frac{1}{1 - \\frac{1}{2 z}} & \\text{for}\\: \\frac{1}{\\left|{z}\\right|} < 2 \\\\\\sum_{n=0}^{\\infty} 2^{- n} z^{- n} & \\text{otherwise} \\end{cases}\\right)$"
      ],
      "text/plain": [
       "2*Piecewise((1/(1 - 1/(2*z)), 1/Abs(z) < 2), (Sum(1/(2**n*z**n), (n, 0, oo)), True))"
      ]
     },
     "execution_count": 5,
     "metadata": {},
     "output_type": "execute_result"
    }
   ],
   "source": [
    "z = sym.symbols('z')\n",
    "n = sym.symbols('n', positive=True)\n",
    "u = sym.Heaviside(n)\n",
    "xn = (sym.Rational(1/2)**(n-1))*u\n",
    "mul = xn*z**(-n)\n",
    "\n",
    "xz = sym.summation(mul,(n,0,sym.oo))\n",
    "xz"
   ]
  },
  {
   "cell_type": "markdown",
   "id": "74cf5f84",
   "metadata": {},
   "source": [
    "De lo anterior se puede apreciar el resultado de la transformada. Cabe resaltar que la ROC es: "
   ]
  },
  {
   "cell_type": "markdown",
   "id": "1396736e",
   "metadata": {},
   "source": [
    "$|z|>\\frac{1}{2}$"
   ]
  },
  {
   "cell_type": "markdown",
   "id": "c189e267",
   "metadata": {},
   "source": [
    "Donde se puede evidenciar que entonces la señal es causal y además estable, debido a que estaría apuntanto hacía afuera y toma el círculo unitario."
   ]
  }
 ],
 "metadata": {
  "kernelspec": {
   "display_name": "Python 3 (ipykernel)",
   "language": "python",
   "name": "python3"
  },
  "language_info": {
   "codemirror_mode": {
    "name": "ipython",
    "version": 3
   },
   "file_extension": ".py",
   "mimetype": "text/x-python",
   "name": "python",
   "nbconvert_exporter": "python",
   "pygments_lexer": "ipython3",
   "version": "3.9.13"
  }
 },
 "nbformat": 4,
 "nbformat_minor": 5
}
